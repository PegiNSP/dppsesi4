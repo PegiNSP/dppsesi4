{
 "cells": [
  {
   "cell_type": "markdown",
   "metadata": {},
   "source": [
    "<h1>Praktikum Variabel & Tipe Data</h1>\n",
    "\n",
    "<h3>Soal 1</h3>\n",
    "Kiki belanja ke alf$$a M$a$r$t membeli 3 hepitos, 2 silperkuin, telor 2kg, beras 5kg, isi ulang akua galon seharga Rp 13.000. Harga hepitos yaitu Rp 15.000, telor Rp 13.000/kg, silperkuin Rp 21.000 beras kemasan 2.5kg seharga Rp 20.000. Toko tersebut memberikan discount 5%, ketika customer membeli makanan lebih dari 3 jenis. Berapakah total bayar belanjaan dari Kiki?\n"
   ]
  },
  {
   "cell_type": "markdown",
   "metadata": {},
   "source": [
    "<h1>Analyze Here</h1>\n",
    "....."
   ]
  },
  {
   "cell_type": "code",
   "execution_count": 1,
   "metadata": {},
   "outputs": [
    {
     "name": "stdout",
     "output_type": "stream",
     "text": [
      "hepitos    :  45000\n",
      "silverkuin :  42000\n",
      "telor      :  26000\n",
      "Beras      :  40000\n",
      "akua       :  13000\n",
      "total      :  166000\n",
      "diskon 5%  : 8300.0\n",
      "total yang harus dibayar:  157700.0\n"
     ]
    }
   ],
   "source": [
    "#Code here\n",
    "#diketahui harga barang :\n",
    "\n",
    "#hepitos: 3 pcs\n",
    "hepitos = 15000*3\n",
    "\n",
    "#silperkuin:2 pcs\n",
    "silverkuin = 21000*2\n",
    "\n",
    "#telor: 13000 / kg  = 2 kg\n",
    "telor = 13000*2\n",
    "\n",
    "#beras: 20000 / 2.5kg = 5 kg\n",
    "beras = 20000*2\n",
    "\n",
    "#akua galon: 13000 = 13000\n",
    "akua = 13000\n",
    "\n",
    "#barang yang dibeli\n",
    "print(\"hepitos    : \",hepitos)\n",
    "print(\"silverkuin : \",silverkuin)\n",
    "print(\"telor      : \",telor)\n",
    "print(\"Beras      : \",beras)\n",
    "print(\"akua       : \",akua)\n",
    "total = hepitos + silverkuin + telor + beras + akua\n",
    "print(\"total      : \",total)\n",
    "\n",
    "#diskon 5%\n",
    "diskon = 5*total/100\n",
    "d = diskon\n",
    "print (\"diskon 5%  :\",d)\n",
    "print(\"total yang harus dibayar: \",total-d,)"
   ]
  },
  {
   "cell_type": "markdown",
   "metadata": {},
   "source": [
    "<h3>Soal 2</h3>\n",
    "Roni menabung pada bulan agustus yaitu setiap tanggal ganjil sejumlah Rp 50.000, setiap tanggal genap sejumlah RP 10.000 dan setiap tanggal kelipatan 5 sejumlah Rp 5.000, Berapakah total tabungan Roni diakhir bulan?"
   ]
  },
  {
   "cell_type": "markdown",
   "metadata": {},
   "source": [
    "<h1>Analyze Here</h1>\n",
    "....."
   ]
  },
  {
   "cell_type": "code",
   "execution_count": 2,
   "metadata": {},
   "outputs": [
    {
     "name": "stdout",
     "output_type": "stream",
     "text": [
      "jumlah Tabungan total:  980000\n"
     ]
    }
   ],
   "source": [
    "#Code here\n",
    "#roni menabung setiap tanggal ganjil 50000\n",
    "#                     tanggal genap 10000\n",
    "#setiap tanggal kelipatan 5 5000\n",
    "\n",
    "#diktahui jumlah tanggal pada bulan agustus adalah 31 hari\n",
    "#jumlah tanggal ganjil= 16\n",
    "jmlganjil = 16\n",
    "\n",
    "#jumlah tanggal genap = 15\n",
    "jmlgenap = 15\n",
    "\n",
    "#jumlah tanggal kelipatan 5 = 6\n",
    "jmlkel5 = 6\n",
    "\n",
    "tabungganjil = 50000*jmlganjil\n",
    "tabunggenap = 10000*jmlgenap\n",
    "tabungkel5 = 5000*jmlkel5\n",
    "totaltab = tabungganjil + tabunggenap + tabungkel5\n",
    "\n",
    "print(\"jumlah Tabungan total: \",totaltab)"
   ]
  },
  {
   "cell_type": "markdown",
   "metadata": {},
   "source": [
    "<h3>Soal 3</h3>\n",
    "Saat hari raya, Deni ingin menukarkan uang sejumlah Rp 5.000.000 ke pecahan 20rb, 10rb, 5rb, 2rb. berapa jumlahnya yang didapatkan Deni jika 20rb maksimal 100, 10rb maksimal 50.Jika :\n",
    "<ol>\n",
    "    <li>3(a)Semua pecahan harus ada</li>\n",
    "    <li>3(b)Hanya pecahan 20rb, 10rb dan 5rb</li>\n",
    "    <li>3(c)Hanya pecahan 20rb, 10rb dan 2rb</li>\n",
    "</ol>"
   ]
  },
  {
   "cell_type": "markdown",
   "metadata": {},
   "source": [
    "<h1>Analyze Here</h1>\n",
    "....."
   ]
  },
  {
   "cell_type": "code",
   "execution_count": 12,
   "metadata": {},
   "outputs": [
    {
     "name": "stdout",
     "output_type": "stream",
     "text": [
      "jumlah pecahan 20rb adalah  2000000\n",
      "jumlah pecahan 10rb adalah  500000\n"
     ]
    }
   ],
   "source": [
    "#Code here\n",
    "#diketahui total uang 5.000.000\n",
    "\n",
    "#diketahui\n",
    "lembar20=int(100)\n",
    "lembar10=int(50)\n",
    "total=int(5000000)\n",
    "\n",
    "#pecahan 20rb 100 lembar\n",
    "duapuluh=20000*100\n",
    "print(\"jumlah pecahan 20rb adalah \",duapuluh)\n",
    "sepuluh=10000*50\n",
    "print(\"jumlah pecahan 10rb adalah \",sepuluh)"
   ]
  },
  {
   "cell_type": "markdown",
   "metadata": {},
   "source": [
    "<h3>Soal 4</h3>\n",
    "Berapakah hasil dari (10/23-6+4-(20//3%2)) ?\n",
    "Lakukan analisa perhitungan dari hasil tersebut!\n",
    "Berdasarkan hasil tersebut urutkan operator yang dikerjakan!"
   ]
  },
  {
   "cell_type": "markdown",
   "metadata": {},
   "source": [
    "<h1>Analyze Here</h1>\n",
    "....."
   ]
  },
  {
   "cell_type": "code",
   "execution_count": 18,
   "metadata": {},
   "outputs": [
    {
     "name": "stdout",
     "output_type": "stream",
     "text": [
      "(10/23-6+4-(20/3%2))\n",
      "0.43478260869565216 -6+4-(20/3%2))\n",
      "-9.565217391304348 -(20/3%2))\n",
      "-29.565217391304348\n"
     ]
    }
   ],
   "source": [
    "#Code here\n",
    "#soal = (10/23-6+4-(20/3%2))\n",
    "langkah1 = 10/23\n",
    "print(\"(10/23-6+4-(20/3%2))\")\n",
    "print(langkah1,\"-6+4-(20/3%2))\")\n",
    "langkah2 = 6+4\n",
    "print(langkah1-langkah2,\"-(20/3%2))\")\n",
    "langkah3 = 20/1\n",
    "print(langkah1-langkah2-(langkah3))"
   ]
  },
  {
   "cell_type": "markdown",
   "metadata": {},
   "source": [
    "<h3>Soal 5</h3>\n",
    "Jika terdapat string yaitu \"UFLOPYXTKJACSWRBGQZVDMEHIN\", maka susunlah nama kalian masing-masing dari data tersebut, berdasarkan index dari masing-masing huruf yang ada pada string tersebut!\n"
   ]
  },
  {
   "cell_type": "markdown",
   "metadata": {},
   "source": [
    "<h1>Analyze Here</h1>\n",
    "....."
   ]
  },
  {
   "cell_type": "code",
   "execution_count": 44,
   "metadata": {},
   "outputs": [
    {
     "name": "stdout",
     "output_type": "stream",
     "text": [
      "NAMA :  P E G I   P A I S A L\n"
     ]
    }
   ],
   "source": [
    "str=\"UFLOPYXTKJACSWRBGQZVDMEHIN\"\n",
    "print(\"NAMA : \",str[4],str[22],str[16],str[24],\" \",str[4],str[10],str[24],str[12],str[10],str[2])"
   ]
  },
  {
   "cell_type": "code",
   "execution_count": null,
   "metadata": {},
   "outputs": [],
   "source": []
  }
 ],
 "metadata": {
  "kernelspec": {
   "display_name": "Python 3 (ipykernel)",
   "language": "python",
   "name": "python3"
  },
  "language_info": {
   "codemirror_mode": {
    "name": "ipython",
    "version": 3
   },
   "file_extension": ".py",
   "mimetype": "text/x-python",
   "name": "python",
   "nbconvert_exporter": "python",
   "pygments_lexer": "ipython3",
   "version": "3.9.13"
  }
 },
 "nbformat": 4,
 "nbformat_minor": 4
}
